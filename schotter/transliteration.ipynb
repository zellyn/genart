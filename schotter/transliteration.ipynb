{
 "cells": [
  {
   "cell_type": "markdown",
   "id": "3c16fee5-c1d4-4f05-a7c0-fd83dd8ab7e9",
   "metadata": {},
   "source": [
    "Moved to https://github.com/zellyn/genart/blob/main/research/schotter/schotter.ipynb"
   ]
  },
  {
   "cell_type": "code",
   "execution_count": null,
   "id": "049d3de1-c0c7-48df-ae61-d5df428ea410",
   "metadata": {},
   "outputs": [],
   "source": []
  }
 ],
 "metadata": {
  "kernelspec": {
   "display_name": "Python 3 (ipykernel)",
   "language": "python",
   "name": "python3"
  },
  "language_info": {
   "codemirror_mode": {
    "name": "ipython",
    "version": 3
   },
   "file_extension": ".py",
   "mimetype": "text/x-python",
   "name": "python",
   "nbconvert_exporter": "python",
   "pygments_lexer": "ipython3",
   "version": "3.12.2"
  }
 },
 "nbformat": 4,
 "nbformat_minor": 5
}
